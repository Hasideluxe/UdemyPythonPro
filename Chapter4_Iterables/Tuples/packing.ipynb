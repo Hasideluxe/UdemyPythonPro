{
 "nbformat": 4,
 "nbformat_minor": 2,
 "metadata": {
  "language_info": {
   "name": "python",
   "codemirror_mode": {
    "name": "ipython",
    "version": 3
   }
  },
  "orig_nbformat": 2,
  "file_extension": ".py",
  "mimetype": "text/x-python",
  "name": "python",
  "npconvert_exporter": "python",
  "pygments_lexer": "ipython3",
  "version": 3
 },
 "cells": [
  {
   "cell_type": "code",
   "execution_count": null,
   "metadata": {},
   "outputs": [],
   "source": [
    "s = 'Hello'\n",
    "\n",
    "a, b, c, d, e = s\n",
    "print(a)\n",
    "print(b)\n",
    "print(c)\n",
    "print(d)\n",
    "print(e)\n",
    "\n",
    "t = (42, 5, 25)\n",
    "x, y, z = t\n",
    "\n",
    "l = [1, 2, 3]\n",
    "a, *b = l # * always unpacks into a list\n",
    "print(type(b))\n",
    "\n",
    "l = (1, 2, 3)\n",
    "a, *b = l # * always unpacks into a list\n",
    "print(type(b))\n"
   ]
  }
 ]
}