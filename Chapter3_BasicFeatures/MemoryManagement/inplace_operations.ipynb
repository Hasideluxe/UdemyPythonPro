{
 "cells": [
  {
   "cell_type": "markdown",
   "metadata": {},
   "source": [
    "Immutable Types:"
   ]
  },
  {
   "cell_type": "code",
   "execution_count": 7,
   "metadata": {},
   "outputs": [
    {
     "output_type": "stream",
     "name": "stdout",
     "text": "1 0x7ff923bf1710\n2 0x7ff923bf1730\n3 0x7ff923bf1750\n"
    }
   ],
   "source": [
    "a = 1\n",
    "print(a, hex(id(a)))\n",
    "a = a + 1\n",
    "print(a, hex(id(a)))\n",
    "a += 1\n",
    "print(a, hex(id(a)))"
   ]
  },
  {
   "cell_type": "code",
   "execution_count": 11,
   "metadata": {},
   "outputs": [
    {
     "output_type": "stream",
     "name": "stdout",
     "text": "1 0x7ff923bf1710\n2 0x7ff923bf1730\n4 0x7ff923bf1770\n"
    }
   ],
   "source": [
    "b = 1\n",
    "print(b, hex(id(b)))\n",
    "b = b * 2\n",
    "print(b, hex(id(b)))\n",
    "b *= 2\n",
    "print(b, hex(id(b)))"
   ]
  },
  {
   "cell_type": "code",
   "execution_count": 8,
   "metadata": {},
   "outputs": [
    {
     "output_type": "stream",
     "name": "stdout",
     "text": "(1,) 0x164a65cc3a0\n(1, 2) 0x164a6448400\n(1, 2, 3) 0x164a64d2440\n"
    }
   ],
   "source": [
    "t = (1,)\n",
    "print(t, hex(id(t)))\n",
    "t = t + (2,)\n",
    "print(t, hex(id(t)))\n",
    "t += (3,)\n",
    "print(t, hex(id(t)))"
   ]
  },
  {
   "cell_type": "markdown",
   "metadata": {},
   "source": [
    "Mutable Types"
   ]
  },
  {
   "cell_type": "code",
   "execution_count": 9,
   "metadata": {},
   "outputs": [
    {
     "output_type": "stream",
     "name": "stdout",
     "text": "[1] 0x164a64c1180\n[1, 2] 0x164a61bddc0\n[1, 2, 3] 0x164a61bddc0\n"
    }
   ],
   "source": [
    "l = [1]\n",
    "print(l, hex(id(l)))\n",
    "l = l + [2]\n",
    "print(l, hex(id(l)))\n",
    "l += [3]\n",
    "print(l, hex(id(l)))"
   ]
  },
  {
   "cell_type": "code",
   "execution_count": 14,
   "metadata": {},
   "outputs": [
    {
     "output_type": "stream",
     "name": "stdout",
     "text": "[1, 3, 3] 0x164a68de140\n[1, 3, 3, 1, 3, 3] 0x164a6973480\n[1, 3, 3, 1, 3, 3, 1, 3, 3, 1, 3, 3] 0x164a6973480\n"
    }
   ],
   "source": [
    "l2 = [1, 3, 3]\n",
    "print(l2, hex(id(l2)))\n",
    "l2 = l2 * 2\n",
    "print(l2, hex(id(l2)))\n",
    "l2 *= 2\n",
    "print(l2, hex(id(l2)))"
   ]
  },
  {
   "cell_type": "code",
   "execution_count": 10,
   "metadata": {},
   "outputs": [
    {
     "output_type": "stream",
     "name": "stdout",
     "text": "{'a': 1} 0x164a64938c0\n{'a': 1, 'b': 2} 0x164a6496e80\n{'a': 1, 'b': 2, 'c': 3} 0x164a6496e80\n"
    }
   ],
   "source": [
    "d = {'a': 1}\n",
    "print(d, hex(id(d)))\n",
    "d = {**d, **{'b': 2}}\n",
    "print(d, hex(id(d)))\n",
    "d['c'] = 3\n",
    "print(d, hex(id(d)))"
   ]
  }
 ],
 "metadata": {
  "language_info": {
   "codemirror_mode": {
    "name": "ipython",
    "version": 3
   },
   "file_extension": ".py",
   "mimetype": "text/x-python",
   "name": "python",
   "nbconvert_exporter": "python",
   "pygments_lexer": "ipython3",
   "version": "3.8.1-final"
  },
  "orig_nbformat": 2,
  "kernelspec": {
   "name": "python38164bitpyudemyconda8c705f49a8e643418ce4b1ca64c8ab63",
   "display_name": "Python 3.8.1 64-bit ('pyUdemy': conda)"
  }
 },
 "nbformat": 4,
 "nbformat_minor": 2
}