{
 "cells": [
  {
   "cell_type": "markdown",
   "metadata": {},
   "source": [
    "Immutable Types:"
   ]
  },
  {
   "cell_type": "code",
<<<<<<< HEAD
   "execution_count": 1,
   "metadata": {
    "tags": []
   },
=======
   "execution_count": 15,
   "metadata": {},
>>>>>>> 03aff69d3252a5d87b36883534d90b42723f64b3
   "outputs": [
    {
     "output_type": "stream",
     "name": "stdout",
     "text": "1 0x7ffa00452720\n2 0x7ffa00452740\n3 0x7ffa00452760\n"
    }
   ],
   "source": [
    "a = 1\n",
    "print(a, hex(id(a)))\n",
    "a = a + 1 #addition: __add__\n",
    "print(a, hex(id(a)))\n",
    "a += 1 # in-place addtion: __iadd__\n",
    "print(a, hex(id(a)))"
   ]
  },
  {
   "cell_type": "code",
<<<<<<< HEAD
   "execution_count": 2,
   "metadata": {
    "tags": []
   },
=======
   "execution_count": 16,
   "metadata": {},
>>>>>>> 03aff69d3252a5d87b36883534d90b42723f64b3
   "outputs": [
    {
     "output_type": "stream",
     "name": "stdout",
     "text": "1 0x7ffa00452720\n2 0x7ffa00452740\n4 0x7ffa00452780\n"
    }
   ],
   "source": [
    "b = 1\n",
    "print(b, hex(id(b)))\n",
    "b = b * 2\n",
    "print(b, hex(id(b)))\n",
    "b *= 2\n",
    "print(b, hex(id(b)))"
   ]
  },
  {
   "cell_type": "code",
<<<<<<< HEAD
   "execution_count": 3,
   "metadata": {
    "tags": []
   },
=======
   "execution_count": 17,
   "metadata": {},
>>>>>>> 03aff69d3252a5d87b36883534d90b42723f64b3
   "outputs": [
    {
     "output_type": "stream",
     "name": "stdout",
<<<<<<< HEAD
     "text": "(1,) 0x20ecb978b50\n(1, 2) 0x20ecb9bb900\n(1, 2, 3) 0x20ecb9ce7c0\n"
=======
     "text": "(1,) 0x164a6200f10\n(1, 2) 0x164a68eedc0\n(1, 2, 3) 0x164a65ec900\n"
>>>>>>> 03aff69d3252a5d87b36883534d90b42723f64b3
    }
   ],
   "source": [
    "t = (1,)\n",
    "print(t, hex(id(t)))\n",
    "t = t + (2,)\n",
    "print(t, hex(id(t)))\n",
    "t += (3,)\n",
    "print(t, hex(id(t)))"
   ]
  },
  {
   "cell_type": "markdown",
   "metadata": {},
   "source": [
    "Mutable Types"
   ]
  },
  {
   "cell_type": "code",
<<<<<<< HEAD
   "execution_count": 4,
   "metadata": {
    "tags": []
   },
=======
   "execution_count": 18,
   "metadata": {},
>>>>>>> 03aff69d3252a5d87b36883534d90b42723f64b3
   "outputs": [
    {
     "output_type": "stream",
     "name": "stdout",
<<<<<<< HEAD
     "text": "[1] 0x20ecb9caec0\n[1, 2] 0x20ecb9ca9c0\n[1, 2, 3] 0x20ecb9ca9c0\n"
=======
     "text": "[1] 0x164a6923780\n[1, 2] 0x164a68dedc0\n[1, 2, 3] 0x164a68dedc0\n"
>>>>>>> 03aff69d3252a5d87b36883534d90b42723f64b3
    }
   ],
   "source": [
    "l = [1]\n",
    "print(l, hex(id(l)))\n",
    "l = l + [2] # __add__\n",
    "print(l, hex(id(l)))\n",
    "l += [3] # __iadd__\n",
    "print(l, hex(id(l)))"
   ]
  },
  {
   "cell_type": "code",
<<<<<<< HEAD
   "execution_count": 5,
   "metadata": {
    "tags": []
   },
=======
   "execution_count": 19,
   "metadata": {},
>>>>>>> 03aff69d3252a5d87b36883534d90b42723f64b3
   "outputs": [
    {
     "output_type": "stream",
     "name": "stdout",
<<<<<<< HEAD
     "text": "[1, 2, 3] 0x20ecb9ce900\n[1, 2, 3, 1, 2, 3] 0x20ecb9ca7c0\n[1, 2, 3, 1, 2, 3, 1, 2, 3, 1, 2, 3] 0x20ecb9ca7c0\n"
=======
     "text": "[1, 2, 3] 0x164a6923880\n[1, 2, 3, 1, 2, 3] 0x164a68de0c0\n[1, 2, 3, 1, 2, 3, 1, 2, 3, 1, 2, 3] 0x164a68de0c0\n"
>>>>>>> 03aff69d3252a5d87b36883534d90b42723f64b3
    }
   ],
   "source": [
    "l2 = [1, 2, 3]\n",
    "print(l2, hex(id(l2)))\n",
    "l2 = l2 * 2 # __mul__\n",
    "print(l2, hex(id(l2)))\n",
    "l2 *= 2 # __imul__\n",
    "print(l2, hex(id(l2)))"
   ]
<<<<<<< HEAD
  },
  {
   "cell_type": "code",
   "execution_count": null,
   "metadata": {},
   "outputs": [],
   "source": []
=======
>>>>>>> 03aff69d3252a5d87b36883534d90b42723f64b3
  }
 ],
 "metadata": {
  "language_info": {
   "codemirror_mode": {
    "name": "ipython",
    "version": 3
   },
   "file_extension": ".py",
   "mimetype": "text/x-python",
   "name": "python",
   "nbconvert_exporter": "python",
   "pygments_lexer": "ipython3",
   "version": "3.8.5-final"
  },
  "orig_nbformat": 2,
  "kernelspec": {
   "name": "python3",
   "display_name": "Python 3"
  }
 },
 "nbformat": 4,
 "nbformat_minor": 2
}
