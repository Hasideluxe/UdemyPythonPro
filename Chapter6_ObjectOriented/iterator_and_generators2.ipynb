{
 "cells": [
  {
   "cell_type": "code",
   "execution_count": 29,
   "metadata": {},
   "outputs": [],
   "source": [
    "class PowerOfTwo:\n",
    "    def __init__(self, N):\n",
    "        self.N = N\n",
    "\n",
    "    def __iter__(self):\n",
    "        self.current_n = 0\n",
    "        return self\n",
    "\n",
    "    def __next__(self):\n",
    "        if self.current_n <= self.N:\n",
    "            current_result = 2**self.current_n\n",
    "            self.current_n += 1\n",
    "            return current_result\n",
    "        else:\n",
    "            raise StopIteration"
   ]
  }
 ],
 "metadata": {
  "language_info": {
   "name": "python",
   "codemirror_mode": {
    "name": "ipython",
    "version": 3
   },
   "version": "3.8.1-final"
  },
  "orig_nbformat": 2,
  "file_extension": ".py",
  "mimetype": "text/x-python",
  "name": "python",
  "npconvert_exporter": "python",
  "pygments_lexer": "ipython3",
  "version": 3,
  "kernelspec": {
   "name": "python38164bitpyudemyconda8c705f49a8e643418ce4b1ca64c8ab63",
   "display_name": "Python 3.8.1 64-bit ('pyUdemy': conda)"
  }
 },
 "nbformat": 4,
 "nbformat_minor": 2
}